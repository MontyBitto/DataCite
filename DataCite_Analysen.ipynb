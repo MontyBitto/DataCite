{
 "cells": [
  {
   "cell_type": "markdown",
   "id": "de328b7e",
   "metadata": {},
   "source": [
    "find . -type f -name \"DataCite_Public_Data_File_2024.tar\" -print0 | \\\n",
    "xargs -0 -I{} tar -O -xf {} --wildcards 'dois/updated_2025-01/*.jsonl.gz' | \\\n",
    "gunzip -c | \\\n",
    "jq -c '.attributes | {doi, subjects, geoLocations, dates}' | \\\n",
    "gzip > output25.jsonl.gz\n",
    "\n",
    "zcat output25.jsonl.gz | tail -n 100000 | gzip > last_lines.jsonl.gz"
   ]
  },
  {
   "cell_type": "code",
   "execution_count": null,
   "id": "6bbbd253",
   "metadata": {},
   "outputs": [
    {
     "name": "stdout",
     "output_type": "stream",
     "text": [
      "{'https://kaken.nii.ac.jp/': 163906, 'http://id.loc.gov/authorities/subjects': 163906, 'http://www.abs.gov.au/ausstats/abs@.nsf/0/6BB427AB9696C225CA2574180004463E': 376, 'http://dewey.info/': 436, 'http://www.oecd.org/science/inno/38235147.pdf': 1904, 'https://dewey.info/': 3, 'http://www.oecd.org/science/inno': 1, 'http://astrothesaurus.org/': 9, 'https://minorplanetcenter.net/iau/info/PackedDes.html': 9, 'https://github.com/PLOS/plos-thesaurus': 6, 'https://d-nb.info/gnd/': 121, 'https://prsinfo.clinicaltrials.gov/definitions.html#PrimaryCondition': 3881, 'https://www.microbiologyresearch.org/content/journal/ijsem/10.1099/ijsem.0.005585': 1040, 'http://id.loc.gov/authorities/subjects/sh2011004061': 3, 'http://id.loc.gov/authorities/subjects/sh85043149': 1, 'http://id.loc.gov/authorities/subjects/sh85146874': 3, 'http://id.loc.gov/authorities/subjects/sh85002717': 2, 'http://id.loc.gov/authorities/subjects/sh85105993': 1, 'https://calenda.org/subjects': 74, 'http://zbw.eu/stw/descriptor/19237-2': 2, 'http://aims.fao.org/aos/agrovoc/c_5076': 1, 'http://aims.fao.org/aos/agrovoc/c_3674': 1, 'http://aims.fao.org/aos/agrovoc/c_3675': 1, 'http://aims.fao.org/aos/agrovoc/c_15501': 1, 'http://aims.fao.org/aos/agrovoc/c_4128': 1, 'http://aims.fao.org/aos/agrovoc/c_7626': 1, 'http://aims.fao.org/aos/agrovoc/c_9000148': 1, 'http://aims.fao.org/aos/agrovoc/c_5409': 1, 'http://aims.fao.org/aos/agrovoc/c_3825': 3, 'http://aims.fao.org/aos/agrovoc/c_29172': 7, 'http://aims.fao.org/aos/agrovoc/c_666': 11, 'http://zbw.eu/stw/thsys/71111': 1, 'http://aims.fao.org/aos/agrovoc/c_34835': 10, 'http://aims.fao.org/aos/agrovoc/c_03ae1678': 3, 'http://aims.fao.org/aos/agrovoc/c_8420': 5, 'http://aims.fao.org/aos/agrovoc/c_f1c72537': 7, 'http://aims.fao.org/aos/agrovoc/c_2147': 2, 'http://aims.fao.org/aos/agrovoc/c_2128': 3, 'http://aims.fao.org/aos/agrovoc/c_6513': 3, 'http://aims.fao.org/aos/agrovoc/c_330972': 3, 'http://aims.fao.org/aos/agrovoc/c_3676': 6, 'http://aims.fao.org/aos/agrovoc/c_166': 5, 'http://aims.fao.org/aos/agrovoc/c_13356': 1, 'http://aims.fao.org/aos/agrovoc/c_1547': 1, 'http://aims.fao.org/aos/agrovoc/c_35053': 1, 'http://aims.fao.org/aos/agrovoc/c_3016': 1, 'http://aims.fao.org/aos/agrovoc/c_7608': 2, 'http://aims.fao.org/aos/agrovoc/c_165': 2, 'http://aims.fao.org/aos/agrovoc/c_49892': 8, 'http://aims.fao.org/aos/agrovoc/c_53e2fc30': 1, 'http://aims.fao.org/aos/agrovoc/c_203': 3, 'http://aims.fao.org/aos/agrovoc/c_24929': 1, 'http://aims.fao.org/aos/agrovoc/c_4822': 10, 'http://aims.fao.org/aos/agrovoc/c_833bd35d': 2, 'http://aims.fao.org/aos/agrovoc/c_33246': 1, 'http://aims.fao.org/aos/agrovoc/c_37864': 1, 'http://aims.fao.org/aos/agrovoc/c_2ac7c9e1': 2, 'http://aims.fao.org/aos/agrovoc/c_8320': 1, 'http://aims.fao.org/aos/agrovoc/c_331043': 1, 'http://aims.fao.org/aos/agrovoc/c_1374498089962': 1, 'http://aims.fao.org/aos/agrovoc/c_677': 2, 'http://aims.fao.org/aos/agrovoc/c_2550': 2, 'http://aims.fao.org/aos/agrovoc/c_c8ca1426': 1, 'http://aims.fao.org/aos/agrovoc/c_2261': 1, 'http://aims.fao.org/aos/agrovoc/c_7137': 1, 'http://aims.fao.org/aos/agrovoc/c_36490': 1, 'http://aims.fao.org/aos/agrovoc/c_1155': 4, 'http://aims.fao.org/aos/agrovoc/c_7260': 2, 'http://aims.fao.org/aos/agrovoc/c_3820': 1, 'http://aims.fao.org/aos/agrovoc/c_5466': 1, 'http://aims.fao.org/aos/agrovoc/c_37942': 1, 'http://aims.fao.org/aos/agrovoc/c_4': 1, 'http://aims.fao.org/aos/agrovoc/c_25470': 1, 'http://aims.fao.org/aos/agrovoc/c_14154': 1, 'http://aims.fao.org/aos/agrovoc/c_7555': 1, 'http://aims.fao.org/aos/agrovoc/c_37872': 2, 'http://aims.fao.org/aos/agrovoc/c_2cbe5456': 2, 'http://aims.fao.org/aos/agrovoc/c_5783': 2, 'http://aims.fao.org/aos/agrovoc/c_4532': 2, 'http://aims.fao.org/aos/agrovoc/c_3eba0b4a': 6, 'http://aims.fao.org/aos/agrovoc/c_1374480530924': 6, 'http://aims.fao.org/aos/agrovoc/c_5091': 6, 'http://aims.fao.org/aos/agrovoc/c_1312459073954': 6, 'http://aims.fao.org/aos/agrovoc/c_1666': 6, 'http://aims.fao.org/aos/agrovoc/c_10967': 6, 'http://aims.fao.org/aos/agrovoc/c_a2c7f0be': 6, 'http://aims.fao.org/aos/agrovoc/c_810': 3, 'http://aims.fao.org/aos/agrovoc/c_37938': 6, 'http://aims.fao.org/aos/agrovoc/c_40cb9134': 6, 'http://aims.fao.org/aos/agrovoc/c_3511': 6, 'http://aims.fao.org/aos/agrovoc/c_5124': 1, 'https://acervo.bn.gov.br/Sophia_web/Autoridade?guid=1735562733204': 1, 'https://acervo.bn.gov.br/Sophia_web/Autoridade?guid=1735562820857': 1, 'https://vocabusp.abcd.usp.br/Vocab/Sibix652.dll/ARV?Hier=CH771.12.1': 1}\n",
      "{'https://kaken.nii.ac.jp/': 81953, 'http://id.loc.gov/authorities/subjects': 81953, 'http://www.abs.gov.au/ausstats/abs@.nsf/0/6BB427AB9696C225CA2574180004463E': 132, 'http://dewey.info/': 434, 'http://www.oecd.org/science/inno/38235147.pdf': 913, 'https://dewey.info/': 2, 'http://www.oecd.org/science/inno': 1, 'http://astrothesaurus.org/': 9, 'https://minorplanetcenter.net/iau/info/PackedDes.html': 9, 'https://github.com/PLOS/plos-thesaurus': 3, 'https://d-nb.info/gnd/': 17, 'https://prsinfo.clinicaltrials.gov/definitions.html#PrimaryCondition': 1024, 'https://www.microbiologyresearch.org/content/journal/ijsem/10.1099/ijsem.0.005585': 6, 'http://id.loc.gov/authorities/subjects/sh2011004061': 3, 'http://id.loc.gov/authorities/subjects/sh85146874': 3, 'http://id.loc.gov/authorities/subjects/sh85043149': 1, 'http://id.loc.gov/authorities/subjects/sh85105993': 1, 'http://id.loc.gov/authorities/subjects/sh85002717': 2, 'https://calenda.org/subjects': 15, 'http://aims.fao.org/aos/agrovoc/c_9000148': 1, 'http://aims.fao.org/aos/agrovoc/c_3674': 1, 'http://aims.fao.org/aos/agrovoc/c_3675': 1, 'http://aims.fao.org/aos/agrovoc/c_34835': 7, 'http://aims.fao.org/aos/agrovoc/c_666': 11, 'http://aims.fao.org/aos/agrovoc/c_15501': 1, 'http://aims.fao.org/aos/agrovoc/c_7626': 1, 'http://aims.fao.org/aos/agrovoc/c_3825': 3, 'http://zbw.eu/stw/thsys/71111': 1, 'http://aims.fao.org/aos/agrovoc/c_29172': 7, 'http://aims.fao.org/aos/agrovoc/c_5409': 1, 'http://aims.fao.org/aos/agrovoc/c_4128': 1, 'http://aims.fao.org/aos/agrovoc/c_5076': 1, 'http://zbw.eu/stw/descriptor/19237-2': 1, 'http://aims.fao.org/aos/agrovoc/c_8420': 5, 'http://aims.fao.org/aos/agrovoc/c_2147': 2, 'http://aims.fao.org/aos/agrovoc/c_166': 5, 'http://aims.fao.org/aos/agrovoc/c_2128': 3, 'http://aims.fao.org/aos/agrovoc/c_330972': 3, 'http://aims.fao.org/aos/agrovoc/c_f1c72537': 4, 'http://aims.fao.org/aos/agrovoc/c_6513': 3, 'http://aims.fao.org/aos/agrovoc/c_3676': 6, 'http://aims.fao.org/aos/agrovoc/c_03ae1678': 3, 'http://aims.fao.org/aos/agrovoc/c_7608': 1, 'http://aims.fao.org/aos/agrovoc/c_165': 2, 'http://aims.fao.org/aos/agrovoc/c_3016': 1, 'http://aims.fao.org/aos/agrovoc/c_1547': 1, 'http://aims.fao.org/aos/agrovoc/c_35053': 1, 'http://aims.fao.org/aos/agrovoc/c_13356': 1, 'http://aims.fao.org/aos/agrovoc/c_49892': 8, 'http://aims.fao.org/aos/agrovoc/c_8320': 1, 'http://aims.fao.org/aos/agrovoc/c_53e2fc30': 1, 'http://aims.fao.org/aos/agrovoc/c_833bd35d': 2, 'http://aims.fao.org/aos/agrovoc/c_37864': 1, 'http://aims.fao.org/aos/agrovoc/c_4822': 9, 'http://aims.fao.org/aos/agrovoc/c_33246': 1, 'http://aims.fao.org/aos/agrovoc/c_24929': 1, 'http://aims.fao.org/aos/agrovoc/c_203': 3, 'http://aims.fao.org/aos/agrovoc/c_2ac7c9e1': 2, 'http://aims.fao.org/aos/agrovoc/c_331043': 1, 'http://aims.fao.org/aos/agrovoc/c_36490': 1, 'http://aims.fao.org/aos/agrovoc/c_c8ca1426': 1, 'http://aims.fao.org/aos/agrovoc/c_2261': 1, 'http://aims.fao.org/aos/agrovoc/c_7137': 1, 'http://aims.fao.org/aos/agrovoc/c_7260': 2, 'http://aims.fao.org/aos/agrovoc/c_1374498089962': 1, 'http://aims.fao.org/aos/agrovoc/c_677': 2, 'http://aims.fao.org/aos/agrovoc/c_1155': 2, 'http://aims.fao.org/aos/agrovoc/c_2550': 2, 'http://aims.fao.org/aos/agrovoc/c_3820': 1, 'http://aims.fao.org/aos/agrovoc/c_5466': 1, 'http://aims.fao.org/aos/agrovoc/c_37942': 1, 'http://aims.fao.org/aos/agrovoc/c_14154': 1, 'http://aims.fao.org/aos/agrovoc/c_2cbe5456': 2, 'http://aims.fao.org/aos/agrovoc/c_25470': 1, 'http://aims.fao.org/aos/agrovoc/c_5783': 1, 'http://aims.fao.org/aos/agrovoc/c_37872': 2, 'http://aims.fao.org/aos/agrovoc/c_4': 1, 'http://aims.fao.org/aos/agrovoc/c_7555': 1, 'http://aims.fao.org/aos/agrovoc/c_4532': 1, 'http://aims.fao.org/aos/agrovoc/c_810': 3, 'http://aims.fao.org/aos/agrovoc/c_37938': 6, 'http://aims.fao.org/aos/agrovoc/c_40cb9134': 6, 'http://aims.fao.org/aos/agrovoc/c_1666': 6, 'http://aims.fao.org/aos/agrovoc/c_1312459073954': 6, 'http://aims.fao.org/aos/agrovoc/c_3511': 6, 'http://aims.fao.org/aos/agrovoc/c_1374480530924': 6, 'http://aims.fao.org/aos/agrovoc/c_3eba0b4a': 6, 'http://aims.fao.org/aos/agrovoc/c_10967': 6, 'http://aims.fao.org/aos/agrovoc/c_a2c7f0be': 6, 'http://aims.fao.org/aos/agrovoc/c_5091': 6, 'http://aims.fao.org/aos/agrovoc/c_5124': 1, 'https://vocabusp.abcd.usp.br/Vocab/Sibix652.dll/ARV?Hier=CH771.12.1': 1, 'https://acervo.bn.gov.br/Sophia_web/Autoridade?guid=1735562820857': 1, 'https://acervo.bn.gov.br/Sophia_web/Autoridade?guid=1735562733204': 1}\n",
      "Dates of the type Coverage: 1\n",
      "Records with a geoLocations: 100000\n"
     ]
    }
   ],
   "source": [
    "from collections import Counter\n",
    "import gzip\n",
    "import json\n",
    "\n",
    "scheme_counts = Counter()\n",
    "uniq_scheme_counts = Counter()\n",
    "geo_count = 0\n",
    "date_coverage = 0\n",
    "\n",
    "with gzip.open('last_lines.jsonl.gz', 'rt', encoding='utf-8') as f:\n",
    "    for line_num, line in enumerate(f, 1):\n",
    "        try:\n",
    "            obj = json.loads(line)\n",
    "        except json.JSONDecodeError as e:\n",
    "            print(f\"Line {line_num}: JSON decode error: {e}\")\n",
    "            continue\n",
    "\n",
    "        if 'geoLocations' in obj:\n",
    "            geo_count += 1\n",
    "\n",
    "        for date in obj.get('dates', []):\n",
    "            if isinstance(date, dict) and date.get('dateType') == 'Coverage':\n",
    "                date_coverage += 1\n",
    "\n",
    "        scheme_uris_seen = set()\n",
    "        for subject in obj.get('subjects', []):\n",
    "            if isinstance(subject, dict):\n",
    "                scheme_uri = subject.get('schemeUri')\n",
    "                if scheme_uri:\n",
    "                    scheme_uris_seen.add(scheme_uri)\n",
    "                    scheme_counts[scheme_uri] += 1\n",
    "        for uri in scheme_uris_seen:\n",
    "            uniq_scheme_counts[uri] += 1\n",
    "\n",
    "print(dict(scheme_counts))\n",
    "print(dict(uniq_scheme_counts))\n",
    "print(f\"Dates of the type Coverage: {date_coverage}\")\n",
    "print(f\"Records with a geoLocations: {geo_count}\")\n"
   ]
  }
 ],
 "metadata": {
  "kernelspec": {
   "display_name": "Python 3",
   "language": "python",
   "name": "python3"
  },
  "language_info": {
   "codemirror_mode": {
    "name": "ipython",
    "version": 3
   },
   "file_extension": ".py",
   "mimetype": "text/x-python",
   "name": "python",
   "nbconvert_exporter": "python",
   "pygments_lexer": "ipython3",
   "version": "3.10.12"
  }
 },
 "nbformat": 4,
 "nbformat_minor": 5
}
