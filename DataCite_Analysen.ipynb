{
 "cells": [
  {
   "cell_type": "markdown",
   "id": "de328b7e",
   "metadata": {},
   "source": [
    "find . -type f -name \"DataCite_Public_Data_File_2024.tar\" -print0 | \\\n",
    "xargs -0 -I{} tar -O -xf {} --wildcards 'dois/*/*.jsonl.gz' | \\\n",
    "gunzip -c | \\\n",
    "jq -c '.attributes | {doi, subjects, geoLocations, dates}' | \\\n",
    "gzip > output.jsonl.gz"
   ]
  },
  {
   "cell_type": "code",
   "execution_count": null,
   "id": "6bbbd253",
   "metadata": {},
   "outputs": [],
   "source": [
    "from collections import Counter\n",
    "import gzip\n",
    "import json\n",
    "\n",
    "scheme_counts = Counter()\n",
    "uniq_scheme_counts = Counter()\n",
    "geo_count = 0\n",
    "date_coverage = 0\n",
    "\n",
    "with gzip.open('output.jsonl.gz', 'rt', encoding='utf-8') as f:\n",
    "    for line_num, line in enumerate(f, 1):\n",
    "        obj = json.loads(line)\n",
    "        \n",
    "        if 'geoLocations' in obj and not obj['geoLocations'] == []:\n",
    "            geo_count += 1\n",
    "\n",
    "        for date in obj.get('dates', []):\n",
    "            if isinstance(date, dict) and date.get('dateType') == 'Coverage':\n",
    "                date_coverage += 1\n",
    "\n",
    "        scheme_uris_seen = set()\n",
    "        for subject in obj.get('subjects', []):\n",
    "            if isinstance(subject, dict):\n",
    "                scheme_uri = subject.get('schemeUri')\n",
    "                if scheme_uri:\n",
    "                    scheme_uris_seen.add(scheme_uri)\n",
    "                    scheme_counts[scheme_uri] += 1\n",
    "        for uri in scheme_uris_seen:\n",
    "            uniq_scheme_counts[uri] += 1\n",
    "\n",
    "print(dict(scheme_counts))\n",
    "print(dict(uniq_scheme_counts))\n",
    "print(f\"Dates of the type Coverage: {date_coverage}\")\n",
    "print(f\"Records with geoLocations: {geo_count}\")\n"
   ]
  }
 ],
 "metadata": {
  "kernelspec": {
   "display_name": "Python 3",
   "language": "python",
   "name": "python3"
  },
  "language_info": {
   "codemirror_mode": {
    "name": "ipython",
    "version": 3
   },
   "file_extension": ".py",
   "mimetype": "text/x-python",
   "name": "python",
   "nbconvert_exporter": "python",
   "pygments_lexer": "ipython3",
   "version": "3.10.12"
  }
 },
 "nbformat": 4,
 "nbformat_minor": 5
}
